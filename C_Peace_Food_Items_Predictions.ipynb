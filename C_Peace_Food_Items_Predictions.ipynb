{
  "nbformat": 4,
  "nbformat_minor": 0,
  "metadata": {
    "colab": {
      "provenance": [],
      "authorship_tag": "ABX9TyMJJk+UDhF1BcGoGuUOdE4A",
      "include_colab_link": true
    },
    "kernelspec": {
      "name": "python3",
      "display_name": "Python 3"
    },
    "language_info": {
      "name": "python"
    }
  },
  "cells": [
    {
      "cell_type": "markdown",
      "metadata": {
        "id": "view-in-github",
        "colab_type": "text"
      },
      "source": [
        "<a href=\"https://colab.research.google.com/github/CRPeace/Dojo-food_items_assignment/blob/main/C_Peace_Food_Items_Predictions.ipynb\" target=\"_parent\"><img src=\"https://colab.research.google.com/assets/colab-badge.svg\" alt=\"Open In Colab\"/></a>"
      ]
    },
    {
      "cell_type": "markdown",
      "source": [
        "# Food Item Predictions\n",
        "##### Cameron Peace"
      ],
      "metadata": {
        "id": "eZPEi9SUzozH"
      }
    },
    {
      "cell_type": "code",
      "source": [],
      "metadata": {
        "id": "INJVlUDv0AB3"
      },
      "execution_count": null,
      "outputs": []
    },
    {
      "cell_type": "markdown",
      "source": [
        "## Loading Data"
      ],
      "metadata": {
        "id": "Z5IWPMr20CS3"
      }
    },
    {
      "cell_type": "code",
      "source": [],
      "metadata": {
        "id": "K-wueHWx00js"
      },
      "execution_count": null,
      "outputs": []
    },
    {
      "cell_type": "markdown",
      "source": [
        "## Data Cleaning"
      ],
      "metadata": {
        "id": "_PmRQHYx0DIm"
      }
    },
    {
      "cell_type": "code",
      "source": [],
      "metadata": {
        "id": "SwlKA76Z1U3-"
      },
      "execution_count": null,
      "outputs": []
    },
    {
      "cell_type": "markdown",
      "source": [
        "## Exploratory Visuals"
      ],
      "metadata": {
        "id": "sfoAqiH40DY8"
      }
    },
    {
      "cell_type": "code",
      "source": [],
      "metadata": {
        "id": "tTi_jLnL1WJN"
      },
      "execution_count": null,
      "outputs": []
    },
    {
      "cell_type": "markdown",
      "source": [
        "## Explanatory Visuals"
      ],
      "metadata": {
        "id": "YMZ4iK-V0kTJ"
      }
    },
    {
      "cell_type": "code",
      "source": [],
      "metadata": {
        "id": "hcynFewa0v9Q"
      },
      "execution_count": null,
      "outputs": []
    }
  ]
}